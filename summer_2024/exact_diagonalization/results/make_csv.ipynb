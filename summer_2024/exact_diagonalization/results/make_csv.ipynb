{
 "cells": [
  {
   "cell_type": "code",
   "execution_count": null,
   "id": "fd8004db-82bd-4a86-bfe8-ca49446713e7",
   "metadata": {},
   "outputs": [],
   "source": [
    "import os\n",
    "import pandas as pd\n",
    "\n",
    "# Define the directory containing the files\n",
    "data_dir = \"/work/donglab/desroches.j/qis/summer_2024/exact_diagonalization/outputs_sto_6g\" # change when needed\n",
    "\n",
    "data_list = []\n",
    "\n",
    "for filename in os.listdir(data_dir):\n",
    "    file_path = os.path.join(data_dir, filename)\n",
    "    \n",
    "    if os.path.isfile(file_path):\n",
    "        with open(file_path, 'r') as file:\n",
    "            data_dict = {}\n",
    "            if \"molname\" in str(file):\n",
    "                pass\n",
    "            else:\n",
    "                for line in file:\n",
    "                    if ': ' in line:\n",
    "                        parameter, value = line.strip().split(': ')\n",
    "                        data_dict[parameter] = value\n",
    "                \n",
    "                data_dict['Filename'] = filename\n",
    "                \n",
    "                data_list.append(data_dict)\n",
    "\n",
    "df = pd.DataFrame(data_list)\n",
    "df.to_csv('extracted_data_2.csv', index=False) # change when needed"
   ]
  },
  {
   "cell_type": "code",
   "execution_count": null,
   "id": "457b4c7f-eeea-49f0-a02e-7129b462f3f0",
   "metadata": {},
   "outputs": [],
   "source": []
  }
 ],
 "metadata": {
  "kernelspec": {
   "display_name": "Python 3 (ipykernel)",
   "language": "python",
   "name": "python3"
  },
  "language_info": {
   "codemirror_mode": {
    "name": "ipython",
    "version": 3
   },
   "file_extension": ".py",
   "mimetype": "text/x-python",
   "name": "python",
   "nbconvert_exporter": "python",
   "pygments_lexer": "ipython3",
   "version": "3.11.5"
  }
 },
 "nbformat": 4,
 "nbformat_minor": 5
}
