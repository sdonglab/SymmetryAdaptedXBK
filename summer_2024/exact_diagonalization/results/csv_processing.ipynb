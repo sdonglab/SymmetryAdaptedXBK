{
 "cells": [
  {
   "cell_type": "code",
   "execution_count": 1,
   "id": "611cecef-5b03-4630-a0d6-3efc0ac5a589",
   "metadata": {},
   "outputs": [],
   "source": [
    "import pandas as pd"
   ]
  },
  {
   "cell_type": "code",
   "execution_count": 2,
   "id": "9392fe71-6cdd-4539-8c4c-8b439dc0b195",
   "metadata": {},
   "outputs": [],
   "source": [
    "df1 = pd.read_csv(\"extracted_data_1.csv\")\n",
    "df2 = pd.read_csv(\"extracted_data_2.csv\")\n",
    "\n",
    "frames = [df1, df2]\n",
    "df = pd.concat(frames)\n",
    "\n",
    "df.to_csv('extracted_data.csv', index=False) # change when needed"
   ]
  },
  {
   "cell_type": "code",
   "execution_count": null,
   "id": "89c0fe4d-3324-400f-ae71-a5d10c43778c",
   "metadata": {},
   "outputs": [],
   "source": []
  }
 ],
 "metadata": {
  "kernelspec": {
   "display_name": "Python 3 (ipykernel)",
   "language": "python",
   "name": "python3"
  },
  "language_info": {
   "codemirror_mode": {
    "name": "ipython",
    "version": 3
   },
   "file_extension": ".py",
   "mimetype": "text/x-python",
   "name": "python",
   "nbconvert_exporter": "python",
   "pygments_lexer": "ipython3",
   "version": "3.11.5"
  }
 },
 "nbformat": 4,
 "nbformat_minor": 5
}
