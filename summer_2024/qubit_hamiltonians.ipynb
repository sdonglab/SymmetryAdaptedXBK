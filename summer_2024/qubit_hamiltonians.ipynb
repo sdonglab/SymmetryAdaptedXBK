{
 "cells": [
  {
   "cell_type": "code",
   "execution_count": null,
   "id": "db792906-6496-40cc-96ae-e81be898a7a8",
   "metadata": {
    "tags": []
   },
   "outputs": [],
   "source": [
    "from qiskit_nature.units import DistanceUnit\n",
    "from qiskit_nature.second_q.drivers import PySCFDriver\n",
    "from qiskit_nature.second_q.mappers import BravyiKitaevMapper\n",
    "from qiskit_nature.second_q.mappers import JordanWignerMapper\n",
    "from qiskit_nature.second_q.mappers import ParityMapper"
   ]
  },
  {
   "cell_type": "code",
   "execution_count": null,
   "id": "9b3972fc-c9d7-40a9-ac9e-5d2bf26c01c0",
   "metadata": {
    "tags": []
   },
   "outputs": [],
   "source": [
    "def electronic_to_bk_hamiltonian(atom = \"H 0 0 0; H 0 0 0.735\", basis = \"sto3g\", charge=0, spin=0, unit=DistanceUnit.ANGSTROM, \n",
    "                                 mapper = \"bk\", display_output=False, display_type=False):\n",
    "    \n",
    "    driver = PySCFDriver(atom=atom, basis=basis, charge=charge, spin=spin, unit=unit,)\n",
    "    fermionic_op = driver.run().hamiltonian.second_q_op()\n",
    "    if mapper == \"bk\":        \n",
    "        qubit_hamiltonian = BravyiKitaevMapper().map(fermionic_op)\n",
    "        mapper_title = \"Bravyi-Kitaev\"\n",
    "    elif mapper == \"jw\":\n",
    "        qubit_hamiltonian = JordanWignerMapper().map(fermionic_op)\n",
    "        mapper_title = \"Jordan-Wigner\"\n",
    "    elif mapper == \"p\":\n",
    "        qubit_hamiltonian = ParityMapper().map(fermionic_op)\n",
    "        mapper_title = \"Parity\"\n",
    "    \n",
    "    if display_output is True:\n",
    "        print(f\"The {mapper_title} qubit Hamiltonian for this system is given by: \\n {qubit_hamiltonian}\")\n",
    "    if display_type is True:\n",
    "        print(f\"The {mapper_title} qubit Hamitlonian is of type: \\n {type(qubit_hamiltonian)}.\")\n",
    "        \n",
    "    return qubit_hamiltonian"
   ]
  },
  {
   "cell_type": "code",
   "execution_count": null,
   "id": "886d6894-f61f-4106-97ab-0265aa6f8fad",
   "metadata": {
    "tags": []
   },
   "outputs": [],
   "source": [
    "# demonstrating functionality of different mappers\n",
    "\n",
    "x = electronic_to_bk_hamiltonian(mapper = \"bk\", display_output = True)\n",
    "\"\"\"\n",
    "y = electronic_to_bk_hamiltonian(mapper = \"jw\", display_output = True)\n",
    "z = electronic_to_bk_hamiltonian(mapper = \"p\", display_output = True)\n",
    "\"\"\"\n"
   ]
  },
  {
   "cell_type": "code",
   "execution_count": null,
   "id": "bb8b2c07-9914-4948-bcfb-57f908c3338b",
   "metadata": {
    "tags": []
   },
   "outputs": [],
   "source": [
    "# demonstrating functionality for different molecules (LiH)\n",
    "\n",
    "atom  = \"Li 0 0 0; H 0 0 1.595\"\n",
    "basis = \"sto6g\"\n",
    "\n",
    "#lih_hamitlonian = electronic_to_bk_hamiltonian(atom=atom, basis=basis, display_output=True)"
   ]
  },
  {
   "cell_type": "code",
   "execution_count": null,
   "id": "8db5c237-0b60-4ede-919a-ee04ce106dfd",
   "metadata": {
    "tags": []
   },
   "outputs": [],
   "source": [
    "# demonstrating functionality for different molecules (BeH)\n",
    "\n",
    "\n",
    "atom  = \"Be 0 0 0; H 0 0 1.595\"\n",
    "basis = \"sto6g\"\n",
    "\n",
    "beh_hamiltonian = electronic_to_bk_hamiltonian(atom=atom, basis=basis, spin = 1, charge= display_output=True)"
   ]
  },
  {
   "cell_type": "code",
   "execution_count": null,
   "id": "6e949f60-3b51-4dbe-8f3f-bfe040791ac4",
   "metadata": {},
   "outputs": [],
   "source": []
  }
 ],
 "metadata": {
  "kernelspec": {
   "display_name": "Python 3 (ipykernel)",
   "language": "python",
   "name": "python3"
  },
  "language_info": {
   "codemirror_mode": {
    "name": "ipython",
    "version": 3
   },
   "file_extension": ".py",
   "mimetype": "text/x-python",
   "name": "python",
   "nbconvert_exporter": "python",
   "pygments_lexer": "ipython3",
   "version": "3.10.8"
  },
  "widgets": {
   "application/vnd.jupyter.widget-state+json": {
    "state": {},
    "version_major": 2,
    "version_minor": 0
   }
  }
 },
 "nbformat": 4,
 "nbformat_minor": 5
}
