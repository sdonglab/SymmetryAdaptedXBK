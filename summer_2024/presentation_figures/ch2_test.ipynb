{
 "cells": [
  {
   "cell_type": "code",
   "execution_count": 11,
   "metadata": {},
   "outputs": [],
   "source": [
    "import quantumsymmetry\n",
    "import numpy as np\n",
    "import openfermion\n",
    "\n",
    "mol_name = \"CH2\"\n",
    "atom = \"C 0 0 0.1027; H 0 1.0042 -0.3081; H 0 -1.0042 -0.3081\"\n",
    "charge = 0\n",
    "spin = 0\n",
    "basis_set = \"sto-3g\"\n",
    "\n",
    "ham = quantumsymmetry.reduced_hamiltonian(atom=atom, basis=basis_set, charge=charge, spin=spin, verbose=False)"
   ]
  },
  {
   "cell_type": "code",
   "execution_count": 35,
   "metadata": {},
   "outputs": [
    {
     "name": "stdout",
     "output_type": "stream",
     "text": [
      "53.736817994793206\n",
      "-17.377449252153472\n",
      "-29.185033303481106\n",
      "-38.09330911666681\n",
      "-38.31632841329413\n",
      "-38.3535517403695\n",
      "-38.32615067570327\n",
      "-38.28064654069216\n",
      "-38.211974562423855\n",
      "-38.19189237253144\n",
      "-38.179679985896506\n",
      "-38.173036367647214\n",
      "-38.16914130611326\n",
      "-38.16645027328741\n",
      "-38.15368187055206\n"
     ]
    }
   ],
   "source": [
    "bond_lengths = np.around(np.arange(0.1,3.0,0.1),2)\n",
    "\n",
    "ground_states = []\n",
    "first_es_states = []\n",
    "second_es_states = []\n",
    "third_es_states = []\n",
    "\n",
    "for bond_length in bond_lengths:\n",
    "    bond_angle = np.deg2rad(22.2485793248)\n",
    "    geom = (f\"C 0 0 0; \"\n",
    "                f\"H 0 {np.round(bond_length*np.cos(bond_angle),4)} {-np.round(bond_length*np.sin(bond_angle),4)}; \"\n",
    "                f\"H 0 {-np.round(bond_length*np.cos(bond_angle))} {np.round(bond_length*np.sin(bond_angle),4)}\")\n",
    "    \n",
    "    sym_ham = quantumsymmetry.reduced_hamiltonian(atom=geom, basis=basis_set, charge=charge, spin=spin, verbose=False)\n",
    "    matrix = openfermion.linalg.get_sparse_operator(sym_ham)\n",
    "    ground_state, _ = openfermion.linalg.get_ground_state(matrix)\n",
    "    ground_states.append(ground_state)\n",
    "    print(ground_state)"
   ]
  },
  {
   "cell_type": "code",
   "execution_count": 36,
   "metadata": {},
   "outputs": [
    {
     "data": {
      "text/plain": [
       "[<matplotlib.lines.Line2D at 0x7fdb30c65350>]"
      ]
     },
     "execution_count": 36,
     "metadata": {},
     "output_type": "execute_result"
    },
    {
     "data": {
      "image/png": "[encoded data removed]",
      "text/plain": [
       "<Figure size 640x480 with 1 Axes>"
      ]
     },
     "metadata": {},
     "output_type": "display_data"
    }
   ],
   "source": [
    "import matplotlib.pyplot as plt\n",
    "\n",
    "fig, ax = plt.subplots()\n",
    "ax.plot(bond_lengths, ground_states)\n"
   ]
  },
  {
   "cell_type": "code",
   "execution_count": null,
   "metadata": {},
   "outputs": [],
   "source": []
  }
 ],
 "metadata": {
  "kernelspec": {
   "display_name": "qis_conda",
   "language": "python",
   "name": "python3"
  },
  "language_info": {
   "codemirror_mode": {
    "name": "ipython",
    "version": 3
   },
   "file_extension": ".py",
   "mimetype": "text/x-python",
   "name": "python",
   "nbconvert_exporter": "python",
   "pygments_lexer": "ipython3",
   "version": "3.11.5"
  }
 },
 "nbformat": 4,
 "nbformat_minor": 2
}
