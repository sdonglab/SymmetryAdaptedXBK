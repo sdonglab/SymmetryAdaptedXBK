{
 "cells": [
  {
   "cell_type": "code",
   "execution_count": 31,
   "metadata": {},
   "outputs": [],
   "source": [
    "import openfermion\n",
    "import warnings\n",
    "warnings.filterwarnings(\"ignore\")\n",
    "import sys\n",
    "import numpy as np\n",
    "import matplotlib.pyplot as plt\n",
    "from matplotlib.cm import get_cmap\n",
    "\n",
    "\n",
    "util_dir = \"/home/jwdesroches/python/Ga2QuAMES/symmetry/helper_funcs/\"\n",
    "sys.path.append(util_dir)\n",
    "\n",
    "from helper_functions import *\n",
    "from XBK_method import *\n",
    "from utils import *\n",
    "from pyscf import gto, scf, fci\n"
   ]
  },
  {
   "cell_type": "code",
   "execution_count": 18,
   "metadata": {},
   "outputs": [],
   "source": [
    "mol_name = \"H2\"\n",
    "bond_lengths = np.around(np.arange(0.3,3.0,0.05),2)\n",
    "charge = 0\n",
    "spin = 0\n",
    "basis_set = \"sto-3g\"\n",
    "\n",
    "unsimp_energies = []\n",
    "simp_energies = []\n",
    "\n",
    "for bond_length in bond_lengths:\n",
    "    geometry = return_geometry(mol_name, bond_length)\n",
    "    \n",
    "    unsimp_hamiltonian = get_unsimplified_hamiltonian(atom = geometry, basis = basis_set, charge = charge, spin = spin)\n",
    "    simp_hamiltonian = get_simplified_hamiltonian(atom = geometry, basis = basis_set, charge = charge, spin = spin)\n",
    "    \n",
    "    unsimp_energy, _ = openfermion.linalg.get_ground_state(openfermion.linalg.get_sparse_operator(unsimp_hamiltonian))\n",
    "    simp_energy, _ = np.linalg.eigh(openfermion.linalg.get_sparse_operator(simp_hamiltonian).todense())\n",
    "    \n",
    "    simp_energy = simp_energy[0]\n",
    "    \n",
    "    unsimp_energies += [unsimp_energy]\n",
    "    simp_energies += [simp_energy]    "
   ]
  },
  {
   "cell_type": "code",
   "execution_count": 32,
   "metadata": {},
   "outputs": [
    {
     "name": "stdout",
     "output_type": "stream",
     "text": [
      "converged SCF energy = -0.593827758535727\n",
      "converged SCF energy = -0.705217138296664\n",
      "converged SCF energy = -0.793891415123514\n",
      "converged SCF energy = -0.864925701675303\n",
      "converged SCF energy = -0.922040754714196\n",
      "converged SCF energy = -0.968018666915733\n",
      "converged SCF energy = -1.00497608691129\n",
      "converged SCF energy = -1.03454927902159\n",
      "converged SCF energy = -1.05802241914565\n",
      "converged SCF energy = -1.0764180658842\n",
      "converged SCF energy = -1.0905617163716\n",
      "converged SCF energy = -1.1011282422677\n",
      "converged SCF energy = -1.10867549880912\n",
      "converged SCF energy = -1.11366881083818\n",
      "converged SCF energy = -1.11649898261872\n",
      "converged SCF energy = -1.11749574153842\n",
      "converged SCF energy = -1.11693799160318\n",
      "converged SCF energy = -1.11506185487018\n",
      "converged SCF energy = -1.11206717986633\n",
      "converged SCF energy = -1.10812297278158\n",
      "converged SCF energy = -1.10337204448412\n",
      "converged SCF energy = -1.09793505240633\n",
      "converged SCF energy = -1.09191404102006\n",
      "converged SCF energy = -1.08539553891808\n",
      "converged SCF energy = -1.07845324635872\n",
      "converged SCF energy = -1.07115033752427\n",
      "converged SCF energy = -1.06354140095799\n",
      "converged SCF energy = -1.05567404526697\n",
      "converged SCF energy = -1.04759020207613\n",
      "converged SCF energy = -1.03932716240584\n",
      "converged SCF energy = -1.03091838505665\n",
      "converged SCF energy = -1.02239411587827\n",
      "converged SCF energy = -1.0137818550948\n",
      "converged SCF energy = -1.00510670656849\n",
      "converged SCF energy = -0.996391638531715\n",
      "converged SCF energy = -0.987657680438953\n",
      "converged SCF energy = -0.978924075648242\n",
      "converged SCF energy = -0.970208404992919\n",
      "converged SCF energy = -0.961526692191112\n",
      "converged SCF energy = -0.95289349858938\n",
      "converged SCF energy = -0.944322011989672\n",
      "converged SCF energy = -0.935824132235115\n",
      "converged SCF energy = -0.927410554756817\n",
      "converged SCF energy = -0.919090852314658\n",
      "converged SCF energy = -0.910873554594386\n",
      "converged SCF energy = -0.902766225051138\n",
      "converged SCF energy = -0.894775534326295\n",
      "converged SCF energy = -0.886907329636627\n",
      "converged SCF energy = -0.879166699682488\n",
      "converged SCF energy = -0.871558034803417\n",
      "converged SCF energy = -0.864085082293165\n",
      "converged SCF energy = -0.856750996953738\n",
      "converged SCF energy = -0.849558387106962\n",
      "converged SCF energy = -0.842509356388973\n",
      "converged SCF energy = -0.83560554172547\n",
      "converged SCF energy = -0.828848147926977\n",
      "converged SCF energy = -0.822237979356633\n",
      "converged SCF energy = -0.815775469113355\n",
      "converged SCF energy = -0.809460706144875\n",
      "converged SCF energy = -0.80329346066407\n",
      "converged SCF energy = -0.797273208190742\n",
      "converged SCF energy = -0.791399152486323\n",
      "converged SCF energy = -0.785670247591055\n",
      "converged SCF energy = -0.780085219118362\n",
      "converged SCF energy = -0.774642584908543\n",
      "converged SCF energy = -0.769340675097587\n",
      "converged SCF energy = -0.764177651616797\n",
      "converged SCF energy = -0.759151527106181\n",
      "converged SCF energy = -0.754260183199487\n",
      "converged SCF energy = -0.749501388121083\n",
      "converged SCF energy = -0.744872813524427\n",
      "converged SCF energy = -0.740372050497905\n",
      "converged SCF energy = -0.735996624665535\n",
      "converged SCF energy = -0.731744010316588\n",
      "converged SCF energy = -0.727611643508549\n",
      "converged SCF energy = -0.723596934100982\n",
      "converged SCF energy = -0.719697276693124\n",
      "converged SCF energy = -0.715910060453806\n",
      "converged SCF energy = -0.712232677848834\n",
      "converged SCF energy = -0.708662532286518\n",
      "converged SCF energy = -0.705197044716673\n",
      "converged SCF energy = -0.701833659231545\n",
      "converged SCF energy = -0.698569847728229\n",
      "converged SCF energy = -0.695403113701253\n",
      "converged SCF energy = -0.692330995240875\n",
      "converged SCF energy = -0.689351067317301\n",
      "converged SCF energy = -0.686460943433497\n",
      "converged SCF energy = -0.683658276729857\n",
      "converged SCF energy = -0.680940760622589\n",
      "converged SCF energy = -0.678306129054833\n",
      "converged SCF energy = -0.675752156435267\n",
      "converged SCF energy = -0.673276657333646\n",
      "converged SCF energy = -0.670877485996577\n",
      "converged SCF energy = -0.66855253574013\n",
      "converged SCF energy = -0.66629973826887\n",
      "converged SCF energy = -0.66411706296377\n",
      "converged SCF energy = -0.662002516174315\n",
      "converged SCF energy = -0.65995414054342\n",
      "converged SCF energy = -0.657970014387188\n",
      "converged SCF energy = -0.656048251145591\n"
     ]
    }
   ],
   "source": [
    "fci_bond_lengths = np.linspace(0.3, 3.0, 100)\n",
    "fci_energies = []\n",
    "for bond_length in fci_bond_lengths:\n",
    "    mol = gto.Mole()\n",
    "    mol.build(atom=return_geometry(mol_name, bond_length), basis=basis_set, unit=\"angstrom\")\n",
    "    mf = scf.RHF(mol)\n",
    "    mf.kernel()\n",
    "\n",
    "    cisolver = fci.FCI(mf)\n",
    "    fci_energy = cisolver.kernel()[0]\n",
    "    fci_energies.append(fci_energy)"
   ]
  },
  {
   "cell_type": "code",
   "execution_count": 39,
   "metadata": {},
   "outputs": [
    {
     "data": {
      "text/plain": [
       "Text(0, 0.5, 'Energy [$E_h$]')"
      ]
     },
     "execution_count": 39,
     "metadata": {},
     "output_type": "execute_result"
    },
    {
     "data": {
      "image/png": "[encoded data removed]",
      "text/plain": [
       "<Figure size 800x500 with 1 Axes>"
      ]
     },
     "metadata": {},
     "output_type": "display_data"
    }
   ],
   "source": [
    "fig, ax = plt.subplots(figsize = (8,5))\n",
    "\n",
    "ax.plot(fci_bond_lengths, fci_energies, '-k', label = \"FCI [PySCF]\")\n",
    "ax.plot(bond_lengths, unsimp_energies, \"or\", label = \"w/o SAE\")\n",
    "ax.plot(bond_lengths, simp_energies, \"xb\", label = \"w/ SAE\")\n",
    "\n",
    "\n",
    "ax.set_xlim(0,3.3)\n",
    "ax.legend(loc = \"upper center\", ncols = 3)\n",
    "ax.set_xlabel(\"Bond Length [$\\AA$]\")\n",
    "ax.set_ylabel(\"Energy [$E_h$]\")"
   ]
  },
  {
   "cell_type": "code",
   "execution_count": null,
   "metadata": {},
   "outputs": [],
   "source": []
  }
 ],
 "metadata": {
  "kernelspec": {
   "display_name": "qis_conda",
   "language": "python",
   "name": "python3"
  },
  "language_info": {
   "codemirror_mode": {
    "name": "ipython",
    "version": 3
   },
   "file_extension": ".py",
   "mimetype": "text/x-python",
   "name": "python",
   "nbconvert_exporter": "python",
   "pygments_lexer": "ipython3",
   "version": "3.11.5"
  }
 },
 "nbformat": 4,
 "nbformat_minor": 2
}
