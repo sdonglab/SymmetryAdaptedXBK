{
 "cells": [
  {
   "cell_type": "code",
   "execution_count": 40,
   "metadata": {},
   "outputs": [],
   "source": [
    "# import all functions from utils.py\n",
    "from utils import *\n",
    "\n",
    "import pandas as pd\n",
    "import numpy as np\n",
    "import matplotlib.pyplot as plt"
   ]
  },
  {
   "cell_type": "code",
   "execution_count": 41,
   "metadata": {},
   "outputs": [],
   "source": [
    "# first, let us define a molecule using pySCF notation\n",
    "\n",
    "atom = \"H 0 0 0; H 0 0 0.74\" # equilibrium bond length H2\n",
    "basis = \"sto-3g\"\n",
    "charge = 0\n",
    "spin = 0\n",
    "\n",
    "# and construct its Hamiltonian in qubit form using the Jordan-Wigner transform\n",
    "unsimplified_hamiltonian = get_unsimplified_hamiltonian(atom, basis, charge, spin)"
   ]
  },
  {
   "cell_type": "code",
   "execution_count": 42,
   "metadata": {},
   "outputs": [
    {
     "name": "stdout",
     "output_type": "stream",
     "text": [
      "<class 'openfermion.ops.operators.qubit_operator.QubitOperator'> \n",
      "\n",
      "(-0.09706626816763164+0j) [] +\n",
      "(-0.04530261550379926+0j) [X0 X1 Y2 Y3] +\n",
      "(0.04530261550379926+0j) [X0 Y1 Y2 X3] +\n",
      "(0.04530261550379926+0j) [Y0 X1 X2 Y3] +\n",
      "(-0.04530261550379926+0j) [Y0 Y1 X2 X3] +\n",
      "(0.17141282644776912+0j) [Z0] +\n",
      "(0.16868898170361205+0j) [Z0 Z1] +\n",
      "(0.12062523483390412+0j) [Z0 Z2] +\n",
      "(0.1659278503377034+0j) [Z0 Z3] +\n",
      "(0.17141282644776917+0j) [Z1] +\n",
      "(0.16592785033770338+0j) [Z1 Z2] +\n",
      "(0.12062523483390412+0j) [Z1 Z3] +\n",
      "(-0.22343153690813441+0j) [Z2] +\n",
      "(0.17441287612261572+0j) [Z2 Z3] +\n",
      "(-0.22343153690813444+0j) [Z3]\n"
     ]
    }
   ],
   "source": [
    "# we can inspect our Hamiltonian, which is of OpenFermion QubitOperator type\n",
    "print(type(unsimplified_hamiltonian),\"\\n\")\n",
    "print(unsimplified_hamiltonian)"
   ]
  },
  {
   "cell_type": "code",
   "execution_count": 43,
   "metadata": {},
   "outputs": [
    {
     "name": "stdout",
     "output_type": "stream",
     "text": [
      "4\n"
     ]
    }
   ],
   "source": [
    "# we can use OpenFermion's QubitOperator functions to get details about our unsimplified Hamiltonian, e.g.,\n",
    "\n",
    "from openfermion.utils import count_qubits\n",
    "print(count_qubits(unsimplified_hamiltonian))"
   ]
  },
  {
   "cell_type": "code",
   "execution_count": 44,
   "metadata": {},
   "outputs": [
    {
     "name": "stdout",
     "output_type": "stream",
     "text": [
      "1 \n",
      "\n",
      "(-0.3270705806846189+0j) [] +\n",
      "(0.18121046201519705+0j) [X0] +\n",
      "(-0.7896887267118071+0j) [Z0]\n"
     ]
    }
   ],
   "source": [
    "# lets now construct a symmetry adapted version of our Hamiltonian and compare\n",
    "\n",
    "simplified_hamiltonian = get_simplified_hamiltonian(atom, basis, charge, spin)\n",
    "\n",
    "print(count_qubits(simplified_hamiltonian),\"\\n\")\n",
    "print(simplified_hamiltonian)"
   ]
  },
  {
   "cell_type": "code",
   "execution_count": 45,
   "metadata": {},
   "outputs": [
    {
     "name": "stdout",
     "output_type": "stream",
     "text": [
      "No Symmetry-Adapted Encoding:\n",
      "Ground State Energy -1.1167593073964284, Number of Qubits: 8\n",
      "\n",
      "With Symmetry-Adapted Encoding:\n",
      "Ground State Energy -1.1167593073964284, Number of Qubits: 8\n"
     ]
    }
   ],
   "source": [
    "# now let's apply the XBK method to both of our Hamiltonians\n",
    "\n",
    "r_value = 2\n",
    "\n",
    "unsimplified_ground_state_energy, unsimplified_ground_state, unsimplified_ising_hamiltonian = calculate_ising_ground_state(unsimplified_hamiltonian, r_value)\n",
    "simplified_ground_state_energy, simplified_ground_state, simplified_ising_hamiltonian = calculate_ising_ground_state(simplified_hamiltonian, r_value)\n",
    "\n",
    "# and compare the energies and number of qubits each Hamiltonian uses\n",
    "\n",
    "print(f\"No Symmetry-Adapted Encoding:\\nGround State Energy {unsimplified_ground_state_energy}, Number of Qubits: {count_qubits(unsimplified_ising_hamiltonian)}\\n\")\n",
    "print(f\"With Symmetry-Adapted Encoding:\\nGround State Energy {unsimplified_ground_state_energy}, Number of Qubits: {count_qubits(unsimplified_ising_hamiltonian)}\")"
   ]
  },
  {
   "cell_type": "code",
   "execution_count": 46,
   "metadata": {},
   "outputs": [
    {
     "name": "stderr",
     "output_type": "stream",
     "text": [
      "Exception ignored in: <function _TemporaryFileCloser.__del__ at 0x7f3c21ce79c0>\n",
      "Traceback (most recent call last):\n",
      "  File \"/home/jwdesroches/miniconda3/envs/qis_conda/lib/python3.11/tempfile.py\", line 450, in __del__\n",
      "    self.close()\n",
      "  File \"/home/jwdesroches/miniconda3/envs/qis_conda/lib/python3.11/tempfile.py\", line 446, in close\n",
      "    unlink(self.name)\n",
      "FileNotFoundError: [Errno 2] No such file or directory: '/home/jwdesroches/python/Ga2QuAMES/symmetry/final_product/tmpr10ktj8x'\n"
     ]
    },
    {
     "name": "stdout",
     "output_type": "stream",
     "text": [
      "converged SCF energy = -7.02841009454055  <S^2> = 2.8515412e-11  2S+1 = 1\n",
      "converged SCF energy = -7.30874165394089  <S^2> = 5.7953642e-14  2S+1 = 1\n",
      "converged SCF energy = -7.49864507381235  <S^2> = 5.6177285e-14  2S+1 = 1\n",
      "converged SCF energy = -7.62892302744456  <S^2> = 4.4408921e-15  2S+1 = 1\n",
      "converged SCF energy = -7.71773656838278  <S^2> = 2.8315128e-12  2S+1 = 1\n",
      "converged SCF energy = -7.77743000202365  <S^2> = 5.7544369e-10  2S+1 = 1\n",
      "converged SCF energy = -7.81664121927656  <S^2> = 1.9570234e-10  2S+1 = 1\n",
      "converged SCF energy = -7.84132702654149  <S^2> = 6.2144068e-11  2S+1 = 1\n",
      "converged SCF energy = -7.85556546081298  <S^2> = 8.1421536e-12  2S+1 = 1\n",
      "converged SCF energy = -7.86218376662212  <S^2> = 1.6544988e-11  2S+1 = 1\n",
      "converged SCF energy = -7.86319032294314  <S^2> = 2.0092972e-10  2S+1 = 1\n",
      "converged SCF energy = -7.86004735984908  <S^2> = 5.3194538e-10  2S+1 = 1\n",
      "converged SCF energy = -7.85383960184028  <S^2> = 8.2578389e-13  2S+1 = 1\n",
      "converged SCF energy = -7.84538169559151  <S^2> = 3.1881164e-12  2S+1 = 1\n",
      "converged SCF energy = -7.83529030520272  <S^2> = 1.6477042e-11  2S+1 = 1\n",
      "converged SCF energy = -7.82403501652659  <S^2> = 1.8174799e-09  2S+1 = 1\n",
      "converged SCF energy = -7.81197577845831  <S^2> = 2.5230928e-12  2S+1 = 1\n",
      "converged SCF energy = -7.79939126012932  <S^2> = 5.9463545e-13  2S+1 = 1\n",
      "converged SCF energy = -7.7865006252816  <S^2> = 1.1822765e-11  2S+1 = 1\n",
      "converged SCF energy = -7.77348011629784  <S^2> = 3.6646242e-12  2S+1 = 1\n",
      "converged SCF energy = -7.76047524048894  <S^2> = 2.2635227e-12  2S+1 = 1\n",
      "converged SCF energy = -7.74760912877292  <S^2> = 2.5661695e-12  2S+1 = 1\n",
      "converged SCF energy = -7.73498766083524  <S^2> = 2.4846791e-13  2S+1 = 1\n",
      "converged SCF energy = -7.72270207743331  <S^2> = 1.2041479e-12  2S+1 = 1\n",
      "converged SCF energy = -7.71082990021766  <S^2> = 6.5316641e-12  2S+1 = 1\n"
     ]
    }
   ],
   "source": [
    "# we can compare with FCI for a range of bond lengths for a different molecule (LiH)\n",
    "\n",
    "from pyscf import gto, scf, fci\n",
    "from openfermion.linalg import get_ground_state, get_sparse_operator\n",
    "\n",
    "bond_lengths = np.linspace(0.5, 3.0, 25)\n",
    "\n",
    "fci_energies = []\n",
    "unsimp_qubit_energies = []\n",
    "simp_qubit_energies = []\n",
    "unsimp_ising_energies = []\n",
    "simp_ising_energies = []\n",
    "\n",
    "for bond_length in bond_lengths:\n",
    "    \n",
    "    # FCI calculation\n",
    "    mol = gto.Mole()\n",
    "    mol.build(\n",
    "        atom = f'Li 0 0 0; H 0 0 {bond_length}', \n",
    "        basis = 'sto-3g', \n",
    "        unit = 'angstrom'\n",
    "    )\n",
    "\n",
    "    mf = scf.UHF(mol)\n",
    "    mf.kernel()\n",
    "\n",
    "    cisolver = fci.FCI(mf)\n",
    "    fci_energy = cisolver.kernel()[0]\n",
    "    fci_energies+= [fci_energy]\n",
    "     \n",
    "    # construct pySCF geometry using our return_geomtery() function\n",
    "    atom = return_geometry(\"LiH\", bond_length)\n",
    "    \n",
    "    # construct hamiltonians\n",
    "    unsimp_ham = get_unsimplified_hamiltonian(atom, basis, charge, spin)\n",
    "    simp_ham = get_simplified_hamiltonian(atom, basis, charge, spin)\n",
    "    \n",
    "    # do diagonalization on qubit Hamiltonians before XBK transform\n",
    "    \n",
    "    unsimp_qubit_energy, _ = get_ground_state(get_sparse_operator(unsimp_ham))\n",
    "    simp_qubit_energy, _ = get_ground_state(get_sparse_operator(simp_ham))\n",
    "    \n",
    "    unsimp_qubit_energies += [unsimp_qubit_energy]\n",
    "    simp_qubit_energies += [simp_qubit_energy]\n",
    "    \n",
    "    # apply XBK method\n",
    "    \n",
    "    unsimp_ising_energy, _, _ = calculate_ising_ground_state(unsimp_ham, r_value = 1)\n",
    "    simp_ising_energy, _, _ = calculate_ising_ground_state(simp_ham, r_value = 1)\n",
    "    \n",
    "    unsimp_ising_energies += [unsimp_ising_energy]\n",
    "    simp_ising_energies += [simp_ising_energy]"
   ]
  },
  {
   "cell_type": "code",
   "execution_count": 47,
   "metadata": {},
   "outputs": [
    {
     "data": {
      "text/plain": [
       "<matplotlib.legend.Legend at 0x7f3ba41ef6d0>"
      ]
     },
     "execution_count": 47,
     "metadata": {},
     "output_type": "execute_result"
    },
    {
     "data": {
      "image/png": "[encoded data removed]",
      "text/plain": [
       "<Figure size 640x480 with 1 Axes>"
      ]
     },
     "metadata": {},
     "output_type": "display_data"
    }
   ],
   "source": [
    "# and plot the results to compare\n",
    "\n",
    "fig, ax = plt.subplots()\n",
    "\n",
    "ax.plot(bond_lengths, fci_energies, \"-k\", label = \"FCI\")\n",
    "ax.plot(bond_lengths, unsimp_qubit_energies, \"-r\", label = \"Unsimp. Qubit\")\n",
    "ax.plot(bond_lengths, simp_qubit_energies, \"--b\", label = \"Simp. Qubit\")\n",
    "ax.plot(bond_lengths, unsimp_ising_energies, \".g\", label = \"Unsimp. Ising $r=2$\")\n",
    "ax.plot(bond_lengths, simp_ising_energies, \"xm\", label = \"Simp. Ising $r=2$\")\n",
    "\n",
    "ax.set_ylabel(\"Energy [$E_h$]\")\n",
    "ax.set_xlabel(\"Bond Length [$\\\\AA$]\")\n",
    "ax.set_title(\"Potential Energy Curve for LiH in STO-3G\")\n",
    "ax.legend(loc = \"upper right\")"
   ]
  }
 ],
 "metadata": {
  "kernelspec": {
   "display_name": "qis_conda",
   "language": "python",
   "name": "python3"
  },
  "language_info": {
   "codemirror_mode": {
    "name": "ipython",
    "version": 3
   },
   "file_extension": ".py",
   "mimetype": "text/x-python",
   "name": "python",
   "nbconvert_exporter": "python",
   "pygments_lexer": "ipython3",
   "version": "3.11.5"
  }
 },
 "nbformat": 4,
 "nbformat_minor": 2
}
